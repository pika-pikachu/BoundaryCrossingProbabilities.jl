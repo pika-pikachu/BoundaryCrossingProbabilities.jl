{
 "cells": [
  {
   "cell_type": "code",
   "execution_count": 3,
   "metadata": {},
   "outputs": [
    {
     "name": "stderr",
     "output_type": "stream",
     "text": [
      "WARNING: replacing module BoundaryCrossingProbabilities.\n"
     ]
    }
   ],
   "source": [
    "include(\"./BoundaryCrossingProbabilities.jl\")\n",
    "import .BoundaryCrossingProbabilities\n",
    "using PyPlot"
   ]
  },
  {
   "cell_type": "code",
   "execution_count": 4,
   "metadata": {},
   "outputs": [
    {
     "data": {
      "text/plain": [
       "gL (generic function with 1 method)"
      ]
     },
     "metadata": {},
     "output_type": "display_data"
    }
   ],
   "source": [
    "\n",
    "x0 = 0 # Initial condition\n",
    "b(t,x) = 0 # Drift coefficient\n",
    "σ(t,x) = 1 # Diffusion coefficient\n",
    "V(t,x) = -(1im)*x^2  # Potential\n",
    "T = 1.0 # Terminal Time\n",
    "\n",
    "p = BoundaryCrossingProbabilities.MeshParams(\n",
    "    x0, # x0 Initial condition\n",
    "    T, # Terminal time\t\n",
    "    b, # Drift coefficient\n",
    "    σ, # Diffusion coefficient\n",
    "    V, # Potential\n",
    "    false, # no target set\n",
    "    [1.2,3], # Target set X_T \\in [a,b]\n",
    "    \"Brownian\", #bridge correction,\n",
    "    false, # one sided boundary\n",
    "    30, # number of time steps \n",
    "    0, # δ, 1/2 + δ is the space step power before the final time\n",
    "    1, # pn power of the space step at the final time\n",
    "    2, # γ, constant space scaling\n",
    "    \"trapezoidal\" # integration scheme\n",
    "\t);\n",
    "\n",
    "gU(t) = 4 - t^2\n",
    "gL(t) = -4 + t^2"
   ]
  },
  {
   "cell_type": "code",
   "execution_count": 9,
   "metadata": {},
   "outputs": [
    {
     "data": {
      "text/plain": [
       "2391×3 Matrix{ComplexF64}:\n",
       " 0.966667+0.0im    3.06556+0.0im  -7.74203e-242-2.45056e-242im\n",
       " 0.966667+0.0im    2.97405+0.0im       0.266426+0.0758421im\n",
       " 0.966667+0.0im    2.88254+0.0im       0.541676+0.147756im\n",
       " 0.966667+0.0im    2.79103+0.0im       0.756229+0.196357im\n",
       " 0.966667+0.0im    2.69952+0.0im       0.885319+0.217198im\n",
       " 0.966667+0.0im    2.60801+0.0im        0.94652+0.217806im\n",
       " 0.966667+0.0im     2.5165+0.0im       0.970417+0.208169im\n",
       " 0.966667+0.0im    2.42499+0.0im       0.979167+0.194917im\n",
       " 0.966667+0.0im    2.33348+0.0im       0.983136+0.180979im\n",
       " 0.966667+0.0im    2.24197+0.0im       0.985781+0.16729im\n",
       "         ⋮                        \n",
       "      0.0+0.0im   0.744186+0.0im       0.485569+0.5161im\n",
       "      0.0+0.0im   0.651163+0.0im        0.55751+0.495153im\n",
       "      0.0+0.0im    0.55814+0.0im       0.621067+0.470892im\n",
       "      0.0+0.0im   0.465116+0.0im       0.675419+0.445682im\n",
       "      0.0+0.0im   0.372093+0.0im       0.720086+0.421723im\n",
       "      0.0+0.0im    0.27907+0.0im       0.754845+0.400949im\n",
       "      0.0+0.0im   0.186047+0.0im       0.779635+0.384937im\n",
       "      0.0+0.0im  0.0930233+0.0im       0.794481+0.374852im\n",
       "      0.0+0.0im        0.0+0.0im       0.799424+0.371411im"
      ]
     },
     "metadata": {},
     "output_type": "display_data"
    }
   ],
   "source": [
    "plotFlag = true\n",
    "interpolationFlag = false\n",
    "soltn_BKE, v = BoundaryCrossingProbabilities.BKE(p, t -> gU(t), t -> gL(t), interpolationFlag, plotFlag);\n",
    "#plt.savefig(\"/Users/vliang/Google Drive/University/PhD/Research/pictures/2024/complex_potential.png\", format=\"png\",bbox_inches=\"tight\")\n",
    "#soltn_FKE, u = BoundaryCrossingProbabilities.FKE(p, t -> gU(t), t -> gL(t), true, plotFlag);\n",
    "\n"
   ]
  },
  {
   "cell_type": "code",
   "execution_count": null,
   "metadata": {},
   "outputs": [],
   "source": []
  }
 ],
 "metadata": {
  "kernelspec": {
   "display_name": "Julia 1.10.2",
   "language": "julia",
   "name": "julia-1.10"
  },
  "language_info": {
   "file_extension": ".jl",
   "mimetype": "application/julia",
   "name": "julia",
   "version": "1.10.2"
  }
 },
 "nbformat": 4,
 "nbformat_minor": 2
}
